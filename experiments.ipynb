{
 "cells": [
  {
   "cell_type": "code",
   "execution_count": 1,
   "metadata": {
    "collapsed": false
   },
   "outputs": [],
   "source": [
    "using Autoreload\n",
    "arequire(\"./src/BLC.jl\")"
   ]
  },
  {
   "cell_type": "code",
   "execution_count": 2,
   "metadata": {
    "collapsed": false
   },
   "outputs": [
    {
     "name": "stdout",
     "output_type": "stream",
     "text": [
      "BLC.IAbs(BLC.IApp(BLC.IVar(1),BLC.IVar(2)))\n",
      "BLC.IApp(BLC.IAbs(BLC.IApp(BLC.IVar(1),BLC.IVar(1))),BLC.IAbs(BLC.IApp(BLC.IVar(1),BLC.IVar(1))))\n"
     ]
    }
   ],
   "source": [
    "using BLC\n",
    "\n",
    "example1 = @named_term x -> x(y)\n",
    "example2 = @named_term (x -> x(x))(x -> x(x))\n",
    "\n",
    "println(todebruijn(example1))\n",
    "println(todebruijn(example2))"
   ]
  },
  {
   "cell_type": "code",
   "execution_count": 3,
   "metadata": {
    "collapsed": false
   },
   "outputs": [
    {
     "data": {
      "text/plain": [
       "BLC.IAbs(BLC.IApp(BLC.IVar(1),BLC.IVar(2)))"
      ]
     },
     "execution_count": 3,
     "metadata": {},
     "output_type": "execute_result"
    }
   ],
   "source": [
    "@indexed_term x -> x(y)"
   ]
  },
  {
   "cell_type": "code",
   "execution_count": 4,
   "metadata": {
    "collapsed": false
   },
   "outputs": [
    {
     "data": {
      "text/plain": [
       "\"\\0\\0\\0\\x01\\x01\\0\\x01\\x01\\0\""
      ]
     },
     "execution_count": 4,
     "metadata": {},
     "output_type": "execute_result"
    }
   ],
   "source": [
    "encode(todebruijn(example1))"
   ]
  },
  {
   "cell_type": "code",
   "execution_count": 5,
   "metadata": {
    "collapsed": false
   },
   "outputs": [
    {
     "data": {
      "text/plain": [
       "BLC.App(BLC.Abs(\"##7694\",BLC.App(BLC.Var(\"##7694\"),BLC.Var(\"##7694\"))),BLC.Abs(\"##7694\",BLC.App(BLC.Var(\"##7694\"),BLC.Var(\"##7694\"))))"
      ]
     },
     "execution_count": 5,
     "metadata": {},
     "output_type": "execute_result"
    }
   ],
   "source": [
    "fromdebruijn(todebruijn(example2))"
   ]
  },
  {
   "cell_type": "code",
   "execution_count": 6,
   "metadata": {
    "collapsed": false
   },
   "outputs": [
    {
     "data": {
      "text/plain": [
       "BLC.Abs(\"##7762\",BLC.App(BLC.Var(\"##7762\"),BLC.Var(\"##7763\")))"
      ]
     },
     "execution_count": 6,
     "metadata": {},
     "output_type": "execute_result"
    }
   ],
   "source": [
    "fromdebruijn(IAbs(IApp(IVar(1), IVar(2))))"
   ]
  },
  {
   "cell_type": "code",
   "execution_count": 7,
   "metadata": {
    "collapsed": false
   },
   "outputs": [
    {
     "data": {
      "text/plain": [
       "BLC.IAbs(BLC.IApp(BLC.IVar(1),BLC.IApp(BLC.IVar(3),BLC.IVar(2))))"
      ]
     },
     "execution_count": 7,
     "metadata": {},
     "output_type": "execute_result"
    }
   ],
   "source": [
    "todebruijn(Abs(\"x\", App(Var(\"x\"), App(Var(\"y\"), Var(\"z\")))))"
   ]
  },
  {
   "cell_type": "code",
   "execution_count": 8,
   "metadata": {
    "collapsed": false
   },
   "outputs": [
    {
     "data": {
      "text/plain": [
       "Nullable(BLC.IAbs(BLC.IApp(BLC.IVar(1),BLC.IVar(2))))"
      ]
     },
     "execution_count": 8,
     "metadata": {},
     "output_type": "execute_result"
    }
   ],
   "source": [
    "decode(\"\\0\\0\\0\\x01\\x01\\0\\x01\\x01\\0\")"
   ]
  },
  {
   "cell_type": "code",
   "execution_count": 9,
   "metadata": {
    "collapsed": false
   },
   "outputs": [
    {
     "name": "stdout",
     "output_type": "stream",
     "text": [
      "PEGParser.ParseError(\"Entire string did not match\",6)PEGParser.ParseError(\"No matching branches\",1)"
     ]
    },
    {
     "data": {
      "text/plain": [
       "Nullable{BLC.IndexedLambda}()"
      ]
     },
     "execution_count": 9,
     "metadata": {},
     "output_type": "execute_result"
    }
   ],
   "source": [
    "decode(\"\\0\\0\\x01\\x01\\0\\x01\\0\", print)\n",
    "decode(\"\", print)"
   ]
  },
  {
   "cell_type": "code",
   "execution_count": 10,
   "metadata": {
    "collapsed": false
   },
   "outputs": [
    {
     "data": {
      "text/plain": [
       "6-element Array{Union{BLC.Abs,BLC.App,BLC.Var},1}:\n",
       " BLC.Abs(\"##8028\",BLC.Abs(\"##8029\",BLC.Abs(\"##8030\",BLC.Abs(\"##8031\",BLC.Var(\"##8031\")))))\n",
       " BLC.Abs(\"##8032\",BLC.Abs(\"##8033\",BLC.Abs(\"##8034\",BLC.Var(\"##8032\"))))                  \n",
       " BLC.Abs(\"##8035\",BLC.Abs(\"##8036\",BLC.App(BLC.Var(\"##8036\"),BLC.Var(\"##8036\"))))         \n",
       " BLC.Abs(\"##8037\",BLC.App(BLC.Var(\"##8037\"),BLC.Abs(\"##8038\",BLC.Var(\"##8038\"))))         \n",
       " BLC.Abs(\"##8039\",BLC.App(BLC.Abs(\"##8040\",BLC.Var(\"##8040\")),BLC.Var(\"##8039\")))         \n",
       " BLC.App(BLC.Abs(\"##8041\",BLC.Var(\"##8041\")),BLC.Abs(\"##8041\",BLC.Var(\"##8041\")))         "
      ]
     },
     "execution_count": 10,
     "metadata": {},
     "output_type": "execute_result"
    }
   ],
   "source": [
    "[fromdebruijn(unrank(0, 10, k)) for k in 1:6]\n",
    "#tromp2(0, 6)"
   ]
  }
 ],
 "metadata": {
  "kernelspec": {
   "display_name": "Julia 0.4.5",
   "language": "julia",
   "name": "julia-0.4"
  },
  "language_info": {
   "file_extension": ".jl",
   "mimetype": "application/julia",
   "name": "julia",
   "version": "0.4.5"
  }
 },
 "nbformat": 4,
 "nbformat_minor": 0
}
