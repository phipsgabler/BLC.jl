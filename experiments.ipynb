{
 "cells": [
  {
   "cell_type": "code",
   "execution_count": 1,
   "metadata": {},
   "outputs": [],
   "source": [
    "using BinaryLambdaCalculus"
   ]
  },
  {
   "cell_type": "code",
   "execution_count": 2,
   "metadata": {},
   "outputs": [
    {
     "name": "stdout",
     "output_type": "stream",
     "text": [
      "(λx.(x y))\n",
      "\n",
      "((λx.(x x)) (λx.(x x)))\n",
      "\n",
      "(λ.(1 2))\n",
      "\n",
      "(:->, :x, (:call, :x, :y))\n",
      "(:call, (:->, :x, (:call, :x, :x)), (:->, :x, (:call, :x, :x)))"
     ]
    }
   ],
   "source": [
    "example1 = @named_term x -> x(y)\n",
    "example2 = @named_term (x -> x(x))(x -> x(x))\n",
    "example3 = @indexed_term x -> x(y)\n",
    "\n",
    "for i in 1:3\n",
    "    ex = Symbol(\"example$i\")\n",
    "    @eval println($ex)\n",
    "    println()\n",
    "end\n",
    "\n",
    "Meta.show_sexpr(BinaryLambdaCalculus.toast(example1))\n",
    "println()\n",
    "Meta.show_sexpr(BinaryLambdaCalculus.toast(example2))"
   ]
  },
  {
   "cell_type": "code",
   "execution_count": 3,
   "metadata": {},
   "outputs": [
    {
     "data": {
      "text/plain": [
       "\"\\0\\0\\0\\x01\\x01\\0\\x01\\x01\\0\""
      ]
     },
     "execution_count": 3,
     "metadata": {},
     "output_type": "execute_result"
    }
   ],
   "source": [
    "encode(todebruijn(example1))"
   ]
  },
  {
   "cell_type": "code",
   "execution_count": 4,
   "metadata": {},
   "outputs": [
    {
     "data": {
      "text/plain": [
       "((λx.(x x)) (λx.(x x)))"
      ]
     },
     "execution_count": 4,
     "metadata": {},
     "output_type": "execute_result"
    }
   ],
   "source": [
    "fromdebruijn(todebruijn(example2), [\"x\", \"y\"])"
   ]
  },
  {
   "cell_type": "code",
   "execution_count": 5,
   "metadata": {},
   "outputs": [
    {
     "data": {
      "text/plain": [
       "(λx1.(x1 x2))"
      ]
     },
     "execution_count": 5,
     "metadata": {},
     "output_type": "execute_result"
    }
   ],
   "source": [
    "fromdebruijn(IAbs(IApp(IVar(1), IVar(2))))"
   ]
  },
  {
   "cell_type": "code",
   "execution_count": 6,
   "metadata": {},
   "outputs": [
    {
     "data": {
      "text/plain": [
       "(λ.(1 (2 3)))"
      ]
     },
     "execution_count": 6,
     "metadata": {},
     "output_type": "execute_result"
    }
   ],
   "source": [
    "todebruijn(Abs(\"x\", App(Var(\"x\"), App(Var(\"y\"), Var(\"z\")))))"
   ]
  },
  {
   "cell_type": "code",
   "execution_count": 7,
   "metadata": {},
   "outputs": [
    {
     "data": {
      "text/plain": [
       "(λ.(1 2))"
      ]
     },
     "execution_count": 7,
     "metadata": {},
     "output_type": "execute_result"
    }
   ],
   "source": [
    "decode(\"\\0\\0\\0\\x01\\x01\\0\\x01\\x01\\0\")"
   ]
  },
  {
   "cell_type": "code",
   "execution_count": 11,
   "metadata": {},
   "outputs": [
    {
     "name": "stdout",
     "output_type": "stream",
     "text": [
      "On line 1, at column 7:\n",
      "\\x00\\x00\\x01\\x01\\x00\\x01\\x00\n",
      "      ^ here\n",
      "expected one of the following: \n",
      "\n",
      "On line 1, at column 0:\n",
      "\n",
      "^ here\n",
      "expected one of the following: var, term, abs, app\n",
      "\n"
     ]
    }
   ],
   "source": [
    "function printerror3(e) \n",
    "    map(collect(e.msg)) do c\n",
    "        if c == '\\x00'\n",
    "            \"\\\\x00\"\n",
    "        elseif c == '\\x01'\n",
    "            \"\\\\x01\"\n",
    "        else \n",
    "            string(c)\n",
    "        end\n",
    "        end |> join |> println\n",
    "end\n",
    "\n",
    "decode(\"\\0\\0\\x01\\x01\\0\\x01\\0\", onerror = printerror3)\n",
    "decode(\"\", onerror = printerror3)"
   ]
  },
  {
   "cell_type": "code",
   "execution_count": 12,
   "metadata": {},
   "outputs": [
    {
     "name": "stdout",
     "output_type": "stream",
     "text": [
      "(1,0)\n",
      "(2,0)\n",
      "(3,0)\n",
      "(4,1)\n",
      "(5,0)\n",
      "(6,1)\n",
      "(7,1)\n",
      "(8,2)\n",
      "(9,1)\n",
      "(10,6)\n",
      "(11,5)\n",
      "(12,13)\n",
      "(13,14)\n",
      "(14,37)\n",
      "(15,44)\n",
      "\n",
      "(1,0)\n",
      "(2,1)\n",
      "(3,0)\n",
      "(4,1)\n",
      "(5,1)\n",
      "(6,2)\n",
      "(7,1)\n",
      "(8,5)\n",
      "(9,5)\n",
      "(10,11)\n",
      "(11,12)\n",
      "(12,32)\n",
      "(13,40)\n",
      "(14,84)\n",
      "(15,118)\n"
     ]
    }
   ],
   "source": [
    "foreach(println, [(k, tromp(0, k, Int)) for k in 1:15])\n",
    "println()\n",
    "foreach(println, [(k, tromp(1, k, Int)) for k in 1:15])"
   ]
  },
  {
   "cell_type": "code",
   "execution_count": 13,
   "metadata": {},
   "outputs": [
    {
     "name": "stdout",
     "output_type": "stream",
     "text": [
      "(λx.(λy.(λz.(λw.w))))\n",
      "(λx.(λy.(λz.x)))\n",
      "(λx.(λy.(y y)))\n",
      "(λx.(x (λy.y)))\n",
      "(λx.((λy.y) x))\n",
      "((λx.x) (λx.x))\n",
      "\n",
      "(λx.(λy.(λz.(λw.w))))\n",
      "(λx.(λy.(λz.x)))\n",
      "(λx.(λy.(y y)))\n",
      "(λx.(x (λy.y)))\n",
      "(λx.(y y))\n",
      "(λx.((λy.y) x))\n",
      "(x (λx.(λy.y)))\n",
      "(x (x x))\n",
      "((λx.x) (λx.x))\n",
      "((λx.(λy.y)) x)\n",
      "((x x) x)\n"
     ]
    },
    {
     "data": {
      "text/plain": [
       "6"
      ]
     },
     "execution_count": 13,
     "metadata": {},
     "output_type": "execute_result"
    }
   ],
   "source": [
    "foreach(t -> println(fromdebruijn(t, [\"x\", \"y\", \"z\", \"w\"])), terms(0, 10))\n",
    "println()\n",
    "foreach(t -> println(fromdebruijn(t, [\"x\", \"y\", \"z\", \"w\"])), terms(1, 10))\n",
    "length(terms(0, 10))"
   ]
  },
  {
   "cell_type": "code",
   "execution_count": null,
   "metadata": {
    "collapsed": true
   },
   "outputs": [],
   "source": []
  }
 ],
 "metadata": {
  "anaconda-cloud": {},
  "kernelspec": {
   "display_name": "Julia 0.5.1",
   "language": "julia",
   "name": "julia-0.5"
  },
  "language_info": {
   "file_extension": ".jl",
   "mimetype": "application/julia",
   "name": "julia",
   "version": "0.5.1"
  }
 },
 "nbformat": 4,
 "nbformat_minor": 1
}
