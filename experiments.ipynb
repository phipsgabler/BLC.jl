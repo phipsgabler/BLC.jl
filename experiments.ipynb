{
 "cells": [
  {
   "cell_type": "code",
   "execution_count": 1,
   "metadata": {
    "collapsed": false
   },
   "outputs": [
    {
     "data": {
      "text/plain": [
       "foreach (generic function with 1 method)"
      ]
     },
     "execution_count": 1,
     "metadata": {},
     "output_type": "execute_result"
    }
   ],
   "source": [
    "using Autoreload\n",
    "arequire(\"./src/BLC.jl\")\n",
    "\n",
    "using BLC\n",
    "\n",
    "function foreach(f, c)\n",
    "    for x in c\n",
    "        f(x)\n",
    "    end\n",
    "end"
   ]
  },
  {
   "cell_type": "code",
   "execution_count": 2,
   "metadata": {
    "collapsed": false
   },
   "outputs": [
    {
     "name": "stdout",
     "output_type": "stream",
     "text": [
      "(λx.(x y))\n",
      "((λx.(x x)) (λx.(x x)))\n",
      "(λ.1 2)\n"
     ]
    }
   ],
   "source": [
    "example1 = @named_term x -> x(y)\n",
    "example2 = @named_term (x -> x(x))(x -> x(x))\n",
    "example3 = @indexed_term x -> x(y)\n",
    "\n",
    "for i in 1:3\n",
    "    @eval println($(symbol(\"example$i\")))\n",
    "end"
   ]
  },
  {
   "cell_type": "code",
   "execution_count": 3,
   "metadata": {
    "collapsed": false
   },
   "outputs": [
    {
     "data": {
      "text/plain": [
       "\"\\0\\0\\0\\x01\\x01\\0\\x01\\x01\\0\""
      ]
     },
     "execution_count": 3,
     "metadata": {},
     "output_type": "execute_result"
    }
   ],
   "source": [
    "encode(todebruijn(example1))"
   ]
  },
  {
   "cell_type": "code",
   "execution_count": 4,
   "metadata": {
    "collapsed": false
   },
   "outputs": [
    {
     "data": {
      "text/plain": [
       "((λx.(x x)) (λx.(x x)))"
      ]
     },
     "execution_count": 4,
     "metadata": {},
     "output_type": "execute_result"
    }
   ],
   "source": [
    "fromdebruijn(todebruijn(example2), [\"x\", \"y\"])"
   ]
  },
  {
   "cell_type": "code",
   "execution_count": 5,
   "metadata": {
    "collapsed": false
   },
   "outputs": [
    {
     "data": {
      "text/plain": [
       "(λ##7730.(##7730 ##7731))"
      ]
     },
     "execution_count": 5,
     "metadata": {},
     "output_type": "execute_result"
    }
   ],
   "source": [
    "fromdebruijn(IAbs(IApp(IVar(1), IVar(2))))"
   ]
  },
  {
   "cell_type": "code",
   "execution_count": 6,
   "metadata": {
    "collapsed": false
   },
   "outputs": [
    {
     "data": {
      "text/plain": [
       "(λ.1 3 2)"
      ]
     },
     "execution_count": 6,
     "metadata": {},
     "output_type": "execute_result"
    }
   ],
   "source": [
    "todebruijn(Abs(\"x\", App(Var(\"x\"), App(Var(\"y\"), Var(\"z\")))))"
   ]
  },
  {
   "cell_type": "code",
   "execution_count": 7,
   "metadata": {
    "collapsed": false
   },
   "outputs": [
    {
     "data": {
      "text/plain": [
       "Nullable((λ.1 2))"
      ]
     },
     "execution_count": 7,
     "metadata": {},
     "output_type": "execute_result"
    }
   ],
   "source": [
    "decode(\"\\0\\0\\0\\x01\\x01\\0\\x01\\x01\\0\")"
   ]
  },
  {
   "cell_type": "code",
   "execution_count": 8,
   "metadata": {
    "collapsed": false
   },
   "outputs": [
    {
     "name": "stdout",
     "output_type": "stream",
     "text": [
      "PEGParser.ParseError(\"Entire string did not match\",6)PEGParser.ParseError(\"No matching branches\",1)"
     ]
    },
    {
     "data": {
      "text/plain": [
       "Nullable{BLC.IndexedLambda}()"
      ]
     },
     "execution_count": 8,
     "metadata": {},
     "output_type": "execute_result"
    }
   ],
   "source": [
    "decode(\"\\0\\0\\x01\\x01\\0\\x01\\0\", print)\n",
    "decode(\"\", print)"
   ]
  },
  {
   "cell_type": "code",
   "execution_count": 9,
   "metadata": {
    "collapsed": false
   },
   "outputs": [
    {
     "name": "stdout",
     "output_type": "stream",
     "text": [
      "(1,0)\n",
      "(2,0)\n",
      "(3,0)\n",
      "(4,1)\n",
      "(5,0)\n",
      "(6,1)\n",
      "(7,1)\n",
      "(8,2)\n",
      "(9,1)\n",
      "(10,6)\n",
      "(11,5)\n",
      "(12,13)\n",
      "(13,14)\n",
      "(14,37)\n",
      "(15,44)\n",
      "\n",
      "(1,0)\n",
      "(2,1)\n",
      "(3,0)\n",
      "(4,1)\n",
      "(5,1)\n",
      "(6,2)\n",
      "(7,1)\n",
      "(8,5)\n",
      "(9,5)\n",
      "(10,11)\n",
      "(11,12)\n",
      "(12,32)\n",
      "(13,40)\n",
      "(14,84)\n",
      "(15,118)\n"
     ]
    }
   ],
   "source": [
    "foreach(println, [(k, tromp(0, k, Int)) for k in 1:15])\n",
    "println()\n",
    "foreach(println, [(k, tromp(1, k, Int)) for k in 1:15])"
   ]
  },
  {
   "cell_type": "code",
   "execution_count": 12,
   "metadata": {
    "collapsed": false
   },
   "outputs": [
    {
     "name": "stdout",
     "output_type": "stream",
     "text": [
      "(λx.(λy.(λz.(λw.w))))\n",
      "(λx.(λy.(λz.x)))\n",
      "(λx.(λy.(y y)))\n",
      "(λx.(x (λy.y)))\n",
      "(λx.((λy.y) x))\n",
      "((λx.x) (λx.x))\n",
      "\n",
      "(λx.(λy.(λz.(λw.w))))\n",
      "(λx.(λy.(λz.x)))\n",
      "(λx.(λy.(y y)))\n",
      "(λx.(x (λy.y)))\n",
      "(λx.(y y))\n",
      "(λx.((λy.y) x))\n",
      "(x (λx.(λy.y)))\n",
      "(x (x x))\n",
      "((λx.x) (λx.x))\n",
      "((λx.(λy.y)) x)\n",
      "((x x) x)\n"
     ]
    },
    {
     "data": {
      "text/plain": [
       "0x0000000000000006"
      ]
     },
     "execution_count": 12,
     "metadata": {},
     "output_type": "execute_result"
    }
   ],
   "source": [
    "foreach(t -> println(fromdebruijn(t, [\"x\", \"y\", \"z\", \"w\"])), terms(0, 10))\n",
    "println()\n",
    "foreach(t -> println(fromdebruijn(t, [\"x\", \"y\", \"z\", \"w\"])), terms(1, 10))\n",
    "length(terms(0, 10))"
   ]
  }
 ],
 "metadata": {
  "kernelspec": {
   "display_name": "Julia 0.4.5",
   "language": "julia",
   "name": "julia-0.4"
  },
  "language_info": {
   "file_extension": ".jl",
   "mimetype": "application/julia",
   "name": "julia",
   "version": "0.4.5"
  }
 },
 "nbformat": 4,
 "nbformat_minor": 0
}
