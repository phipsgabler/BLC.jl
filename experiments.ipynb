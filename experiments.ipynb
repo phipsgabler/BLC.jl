{
 "cells": [
  {
   "cell_type": "code",
   "execution_count": 1,
   "metadata": {
    "collapsed": false
   },
   "outputs": [],
   "source": [
    "using Autoreload\n",
    "arequire(\"./src/BLC.jl\")"
   ]
  },
  {
   "cell_type": "code",
   "execution_count": 2,
   "metadata": {
    "collapsed": false
   },
   "outputs": [
    {
     "name": "stdout",
     "output_type": "stream",
     "text": [
      "BLC.IAbs(BLC.IApp(BLC.IVar(1),BLC.IVar(2)))\n",
      "BLC.IApp(BLC.IAbs(BLC.IApp(BLC.IVar(1),BLC.IVar(1))),BLC.IAbs(BLC.IApp(BLC.IVar(1),BLC.IVar(1))))\n"
     ]
    }
   ],
   "source": [
    "using BLC\n",
    "\n",
    "example1 = @named_term x -> x(y)\n",
    "example2 = @named_term (x -> x(x))(x -> x(x))\n",
    "\n",
    "println(todebruijn(example1))\n",
    "println(todebruijn(example2))"
   ]
  },
  {
   "cell_type": "code",
   "execution_count": 3,
   "metadata": {
    "collapsed": false
   },
   "outputs": [
    {
     "data": {
      "text/plain": [
       "BLC.IAbs(BLC.IApp(BLC.IVar(1),BLC.IVar(2)))"
      ]
     },
     "execution_count": 3,
     "metadata": {},
     "output_type": "execute_result"
    }
   ],
   "source": [
    "@indexed_term x -> x(y)"
   ]
  },
  {
   "cell_type": "code",
   "execution_count": 4,
   "metadata": {
    "collapsed": false
   },
   "outputs": [
    {
     "data": {
      "text/plain": [
       "\"\\0\\0\\0\\x01\\x01\\0\\x01\\x01\\0\""
      ]
     },
     "execution_count": 4,
     "metadata": {},
     "output_type": "execute_result"
    }
   ],
   "source": [
    "encode(todebruijn(example1))"
   ]
  },
  {
   "cell_type": "code",
   "execution_count": 5,
   "metadata": {
    "collapsed": false
   },
   "outputs": [
    {
     "data": {
      "text/plain": [
       "BLC.App(BLC.Abs(\"##7695\",BLC.App(BLC.Var(\"##7695\"),BLC.Var(\"##7695\"))),BLC.Abs(\"##7695\",BLC.App(BLC.Var(\"##7695\"),BLC.Var(\"##7695\"))))"
      ]
     },
     "execution_count": 5,
     "metadata": {},
     "output_type": "execute_result"
    }
   ],
   "source": [
    "fromdebruijn(todebruijn(example2))"
   ]
  },
  {
   "cell_type": "code",
   "execution_count": 6,
   "metadata": {
    "collapsed": false
   },
   "outputs": [
    {
     "data": {
      "text/plain": [
       "BLC.Abs(\"##7763\",BLC.App(BLC.Var(\"##7763\"),BLC.Var(\"##7764\")))"
      ]
     },
     "execution_count": 6,
     "metadata": {},
     "output_type": "execute_result"
    }
   ],
   "source": [
    "fromdebruijn(IAbs(IApp(IVar(1), IVar(2))))"
   ]
  },
  {
   "cell_type": "code",
   "execution_count": 7,
   "metadata": {
    "collapsed": false
   },
   "outputs": [
    {
     "data": {
      "text/plain": [
       "BLC.IAbs(BLC.IApp(BLC.IVar(1),BLC.IApp(BLC.IVar(3),BLC.IVar(2))))"
      ]
     },
     "execution_count": 7,
     "metadata": {},
     "output_type": "execute_result"
    }
   ],
   "source": [
    "todebruijn(Abs(\"x\", App(Var(\"x\"), App(Var(\"y\"), Var(\"z\")))))"
   ]
  },
  {
   "cell_type": "code",
   "execution_count": 8,
   "metadata": {
    "collapsed": false
   },
   "outputs": [
    {
     "data": {
      "text/plain": [
       "Nullable(BLC.IAbs(BLC.IApp(BLC.IVar(1),BLC.IVar(2))))"
      ]
     },
     "execution_count": 8,
     "metadata": {},
     "output_type": "execute_result"
    }
   ],
   "source": [
    "decode(\"\\0\\0\\0\\x01\\x01\\0\\x01\\x01\\0\")"
   ]
  },
  {
   "cell_type": "code",
   "execution_count": 9,
   "metadata": {
    "collapsed": false
   },
   "outputs": [
    {
     "name": "stdout",
     "output_type": "stream",
     "text": [
      "PEGParser.ParseError(\"Entire string did not match\",6)PEGParser.ParseError(\"No matching branches\",1)"
     ]
    },
    {
     "data": {
      "text/plain": [
       "Nullable{BLC.IndexedLambda}()"
      ]
     },
     "execution_count": 9,
     "metadata": {},
     "output_type": "execute_result"
    }
   ],
   "source": [
    "decode(\"\\0\\0\\x01\\x01\\0\\x01\\0\", print)\n",
    "decode(\"\", print)"
   ]
  }
 ],
 "metadata": {
  "kernelspec": {
   "display_name": "Julia 0.4.5",
   "language": "julia",
   "name": "julia-0.4"
  },
  "language_info": {
   "file_extension": ".jl",
   "mimetype": "application/julia",
   "name": "julia",
   "version": "0.4.5"
  }
 },
 "nbformat": 4,
 "nbformat_minor": 0
}
